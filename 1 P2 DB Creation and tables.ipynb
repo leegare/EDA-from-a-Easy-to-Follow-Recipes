{
 "cells": [
  {
   "cell_type": "code",
   "execution_count": 60,
   "metadata": {},
   "outputs": [],
   "source": [
    "import sqlite3\n",
    "# File with functions\n",
    "from p2func import show_db_tables"
   ]
  },
  {
   "cell_type": "code",
   "execution_count": 65,
   "metadata": {},
   "outputs": [],
   "source": [
    "sqlitefile = 't_homechef.sqlite'\n",
    "sqlitefile = 't_csv_meals.sqlite'"
   ]
  },
  {
   "cell_type": "code",
   "execution_count": 66,
   "metadata": {},
   "outputs": [],
   "source": [
    "# Creation of ingredients table\n",
    "create_scratch_ingredients_table(sqlitefile)\n",
    "\n",
    "# Creation of table meal_info\n",
    "create_scratch_meal_info_table(sqlitefile)\n",
    "\n",
    "# Creation of table meal_bow\n",
    "# Meal_Bow is a table in recipes.sqlite will have all the words that refer to: \n",
    "# - Measure Units, \n",
    "# - Fractions, \n",
    "# - Ingredient texture types, \n",
    "# - type of ingredient\n",
    "create_scratch_meal_bow_table(sqlitefile)\n",
    "\n",
    "# Insertion of Bag of words into a sql table\n",
    "fraction_list = ['½', '⅓', '⅔', '¼', '¾', '⅕', '⅖', '⅗', '⅘', '⅙', '⅚', '⅐', '⅛', '⅜', '⅝', '⅞', '⅑', '⅒']\n",
    "measure_units = ['cups','cup','cloves','clove','fl\\.','oz\\.','head','sprigs', 'sprig','tsp.','tbsp.']\n",
    "shape_ing = ['breasts','cubed', 'chops','chopped','chunks','crumbles','florets', 'flakes', 'glaze', 'halves', 'hearts', \n",
    "             'kernels','package','paste', 'preserves','pesto','powder','rolls','roll', \n",
    "             'seasoning', 'seeds', 'sauce', 'slices','shaved','slivered','with black spots']\n",
    "type_ing = ['ripe','shredded','bone-in','boneless','skinless']\n",
    "\n",
    "# BAG OF WORDS\n",
    "# Meal_Bow is a table in recipes.sqlite will have all the words that refer to: \n",
    "# - Measure Units, \n",
    "# - Fractions, \n",
    "# - Ingredient texture types, \n",
    "# - type of ingredient\n",
    "# \n",
    "fill_bow(sqlitefile, fraction_list, measure_units, shape_ing, type_ing)"
   ]
  },
  {
   "cell_type": "markdown",
   "metadata": {},
   "source": [
    "## Confirm all tables have been created"
   ]
  },
  {
   "cell_type": "code",
   "execution_count": 67,
   "metadata": {},
   "outputs": [
    {
     "name": "stdout",
     "output_type": "stream",
     "text": [
      "['meal_ingredients', 'meal_info', 'meal_bow']\n"
     ]
    }
   ],
   "source": [
    "show_db_tables(sqlitefile)"
   ]
  },
  {
   "cell_type": "markdown",
   "metadata": {},
   "source": [
    "### Functions that couldnt get imported from p2func.py\n",
    "\n",
    "create_scratch_meal_info_table(sqlitefile)\n",
    "    Creates a table with the columns\n",
    "    required by meal_info in the sqlitefile database\n",
    "\n",
    "create_scratch_ingredients_table(sqlitefile)\n",
    "    Creates a table with the columns\n",
    "    required by ingredients table in the sqlitefile database\n",
    "\n",
    "create_scratch_meal_bow_table(sqlitefile)\n",
    "    Creates a table with the columns\n",
    "    required by meal_bow table in the sqlitefile database\n",
    "    \n",
    "fill_bow(sqlitefile, fraction_list, measure_units, shape_ing, type_ing)\n",
    "    Fills the meal_bow sql table with the items in:\n",
    "    - fraction_list\n",
    "    - measure_units\n",
    "    - shape_ing\n",
    "    - type_ing"
   ]
  },
  {
   "cell_type": "code",
   "execution_count": 62,
   "metadata": {},
   "outputs": [],
   "source": [
    "def create_scratch_meal_info_table(sqlitefile):\n",
    "    table_name           = 'meal_info'   # name of the table to be created\n",
    "    id_field             = 'meal_id' # name of the ID column\n",
    "    title_col            = 'title'\n",
    "    rating_col           = 'rating'     # integer counting the starts [0,5]\n",
    "    duration_col         = 'duration'   # text for now -> integer counting time in minutes\n",
    "    expiration_col       = 'expiration' # Integer counting in days\n",
    "    expertise_col        = 'exp_level'  # Text -> Categorical\n",
    "    spicy_col            = 'spiciness'  # Text -> Categorical\n",
    "    cat_col              = 'category'   # Text -> Categorical\n",
    "    field_type_1         = 'INTEGER'\n",
    "    field_type_2         = 'TEXT'  # column data type\n",
    "    conn = sqlite3.connect(sqlitefile)\n",
    "    c = conn.cursor()\n",
    "    try:\n",
    "    # Create table with word column as primary key\n",
    "        c.execute('CREATE TABLE {tn} ({nf} {ft} PRIMARY KEY)'\\\n",
    "                .format(tn=table_name, nf=id_field, ft=field_type_1))\n",
    "        c.execute(\"ALTER TABLE {tn} ADD COLUMN '{cn}' {ct}\"\\\n",
    "                .format(tn=table_name, cn=title_col, ct=field_type_2))\n",
    "        c.execute(\"ALTER TABLE {tn} ADD COLUMN '{cn}' {ct}\"\\\n",
    "                .format(tn=table_name, cn=rating_col, ct=field_type_1))\n",
    "        c.execute(\"ALTER TABLE {tn} ADD COLUMN '{cn}' {ct}\"\\\n",
    "                .format(tn=table_name, cn=duration_col, ct=field_type_2))\n",
    "        c.execute(\"ALTER TABLE {tn} ADD COLUMN '{cn}' {ct}\"\\\n",
    "                .format(tn=table_name, cn=expiration_col, ct=field_type_1))\n",
    "        c.execute(\"ALTER TABLE {tn} ADD COLUMN '{cn}' {ct}\"\\\n",
    "                .format(tn=table_name, cn=expertise_col, ct=field_type_2))\n",
    "        c.execute(\"ALTER TABLE {tn} ADD COLUMN '{cn}' {ct}\"\\\n",
    "                .format(tn=table_name, cn=spicy_col, ct=field_type_2))\n",
    "        c.execute(\"ALTER TABLE {tn} ADD COLUMN '{cn}' {ct}\"\\\n",
    "                .format(tn=table_name, cn=cat_col, ct=field_type_2))\n",
    "    except sqlite3.OperationalError as oe:\n",
    "        print(oe)\n",
    "    conn.commit()\n",
    "    conn.close()\n",
    "\n",
    "def create_scratch_ingredients_table(sqlitefile):\n",
    "    table_name  = 'meal_ingredients'  # name of the table to be created\n",
    "    id_column   = 'meal_id'           # name of the 1st column\n",
    "    field_type  = 'INTEGER'           # column data type\n",
    "    column_name = 'ingredients'       # name of the column\n",
    "    field_type_2  = 'TEXT'            # column data type\n",
    "    create_ingredients_table_query = 'CREATE TABLE {tn} ({nf} {ft}, {cn} {ct})'\\\n",
    "        .format(tn=table_name, nf=id_column, ft=field_type, cn=column_name, ct=field_type_2)\n",
    "    conn = sqlite3.connect(sqlitefile)\n",
    "    c = conn.cursor()\n",
    "    # Create table with ing_id column as primary key\n",
    "    try:\n",
    "        c.execute(create_ingredients_table_query)\n",
    "    except sqlite3.OperationalError as oe:\n",
    "        print(oe)\n",
    "    conn.commit()\n",
    "    conn.close()\n",
    "\n",
    "def create_scratch_meal_bow_table(sqlitefile):\n",
    "    table_name  = 'meal_bow'  # name of the table to be created\n",
    "    id_column   = 'Word' # name of the 1st column\n",
    "    field_type  = 'TEXT'  # column data type\n",
    "    column_name = 'Category' # name of the column\n",
    "    conn = sqlite3.connect(sqlitefile)\n",
    "    c = conn.cursor()\n",
    "    try: \n",
    "        # Create table with word column as primary key\n",
    "        c.execute('CREATE TABLE {tn} ({nf} {ft} PRIMARY KEY)'\\\n",
    "                .format(tn=table_name, nf=id_column, ft=field_type))\n",
    "        # Add a 2nd column named: Keyword\n",
    "        c.execute(\"ALTER TABLE {tn} ADD COLUMN '{cn}' {ct}\"\\\n",
    "                .format(tn=table_name, cn=column_name, ct=field_type))\n",
    "    except sqlite3.OperationalError as oe:\n",
    "        print(oe)\n",
    "    conn.commit()\n",
    "    conn.close()\n",
    "\n",
    "def fill_bow(sqlitefile, fraction_list, measure_units, shape_ing, type_ing):\n",
    "    table_name  = 'meal_bow'  # name of the table to be created\n",
    "    id_column   = 'Word' # name of the 1st column\n",
    "    field_type  = 'TEXT'  # column data type\n",
    "    column_name = 'Category' # name of the column\n",
    "    conn = sqlite3.connect(sqlitefile)\n",
    "    c = conn.cursor()\n",
    "    category    = 'measure_units'\n",
    "    for record in measure_units:\n",
    "        c.execute(\"INSERT OR IGNORE INTO {tn} ({idf}, {cn}) VALUES ('{wv}', '{wk}')\".\\\n",
    "            format(tn=table_name, idf=id_column, cn=column_name, wv=record, wk=category))\n",
    "    category    = 'fraction_list'\n",
    "    for record in fraction_list:\n",
    "        c.execute(\"INSERT OR IGNORE INTO {tn} ({idf}, {cn}) VALUES ('{wv}', '{wk}')\".\\\n",
    "            format(tn=table_name, idf=id_column, cn=column_name, wv=record, wk=category))\n",
    "    category    = 'shape_ing'\n",
    "    for record in shape_ing:\n",
    "        c.execute(\"INSERT OR IGNORE INTO {tn} ({idf}, {cn}) VALUES ('{wv}', '{wk}')\".\\\n",
    "            format(tn=table_name, idf=id_column, cn=column_name, wv=record, wk=category))\n",
    "    category    = 'type_ing'\n",
    "    for record in type_ing:\n",
    "        c.execute(\"INSERT OR IGNORE INTO {tn} ({idf}, {cn}) VALUES ('{wv}', '{wk}')\".\\\n",
    "            format(tn=table_name, idf=id_column, cn=column_name, wv=record, wk=category))\n",
    "    conn.commit()\n",
    "    conn.close()"
   ]
  },
  {
   "cell_type": "code",
   "execution_count": null,
   "metadata": {},
   "outputs": [],
   "source": []
  }
 ],
 "metadata": {
  "kernelspec": {
   "display_name": "Python 3",
   "language": "python",
   "name": "python3"
  },
  "language_info": {
   "codemirror_mode": {
    "name": "ipython",
    "version": 3
   },
   "file_extension": ".py",
   "mimetype": "text/x-python",
   "name": "python",
   "nbconvert_exporter": "python",
   "pygments_lexer": "ipython3",
   "version": "3.6.4"
  }
 },
 "nbformat": 4,
 "nbformat_minor": 2
}
