{
 "cells": [
  {
   "cell_type": "markdown",
   "metadata": {},
   "source": [
    "# Project: Homechef analysis - MVP\n",
    "---\n",
    "## Goals\n",
    "---\n",
    "Save time planning for dinner, reduce food waste and most importantly enjoy the experience of cooking whatever your apetite is. \n",
    "This project intends to find out the top ingredients that make up most easy-to-follow recipes. \n",
    "## Questions for Exploration\n",
    "---\n",
    "- What groceries should always be in my kitchen to maximize the number of (diverse) meals?\n",
    "    - What is the number of ingredients necessary for the average meal?\n",
    "    - What are the essential ingredients in every meal? \n",
    "## Initial Data Cleaning Approach and Exploratory Findings\n",
    "---\n",
    "In average each meal consists of 9$\\pm$1 different ingredients as shown in the figure below: \n",
    "![**Figure 1. Average Number of Ingredients per Meal**](NoOfIngredients.png)\n",
    "\n",
    "**The Database:** From the figure below it looks like the site's meals webpage is biased towards recipes with pork (it's cheap). Vegetarian recipes follow in second place. It is therefore infered that the most present ingredient in most recipes could be pork followed by some type of vegetable. \n",
    "![**Figure 2. **](categoryCount.png)\n",
    "\n",
    "Figure 3 shows the top 25 most used ingredients in Homechef's meals. Surprisingly the pork appears only within the top 10 list. \n",
    "![**Figure 3. Top 9 most common ingredients in the dataset**](commonIngredients.png)\n",
    "\n",
    "Lastly, an interesting display showing the top 9 most used ingredients per category listed in Homechef's website. \n",
    "![**Figure 4. Top 9 most common ingredients in the dataset per Category**](commonIngredientsPerCategory.png)\n",
    "## Initial Research Findings\n",
    "--- \n",
    "1. The 9 essential ingredients are: **cheese, garlic, butter, onions, shallot, cream, tomatoes, pepper and vinegar**\n",
    "\n",
    "## Further Research and Analysis\n",
    "---\n",
    "1. What could be the proportion of these ingredients? In the optics of knowing what to always have in storage, we should also know how much, so maybe an estimate of how much of these ingredients are required in the recipes.\n",
    "2. Unrated recipes need to be prepared and rated to be part of a dataset with favorite meals and further analysis on it will reveal interesting data\n",
    "\n",
    "**Furthermore:**\n",
    "- Could defining a relationship between the 9 essential ingredients and meal criteria such as cooking-time, expiration-time, spicyness and difficulty levels, be useful to optimize the whole cooking experience? \n",
    "- Which is the simplest/complex dish in terms of the number of its ingredients?\n",
    "- (For fun) Since the rating was defined by me, what ingredients make up most of my favorite meals?"
   ]
  }
 ],
 "metadata": {
  "kernelspec": {
   "display_name": "Python 3",
   "language": "python",
   "name": "python3"
  },
  "language_info": {
   "codemirror_mode": {
    "name": "ipython",
    "version": 3
   },
   "file_extension": ".py",
   "mimetype": "text/x-python",
   "name": "python",
   "nbconvert_exporter": "python",
   "pygments_lexer": "ipython3",
   "version": "3.6.4"
  }
 },
 "nbformat": 4,
 "nbformat_minor": 2
}
