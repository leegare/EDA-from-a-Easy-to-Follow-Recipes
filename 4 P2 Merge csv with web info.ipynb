{
 "cells": [
  {
   "cell_type": "code",
   "execution_count": 21,
   "metadata": {},
   "outputs": [],
   "source": [
    "%matplotlib inline \n",
    "import re\n",
    "import requests\n",
    "import numbers\n",
    "import sqlite3\n",
    "import numpy as np\n",
    "import pandas as pd\n",
    "import sys"
   ]
  },
  {
   "cell_type": "markdown",
   "metadata": {},
   "source": [
    "# Functions"
   ]
  },
  {
   "cell_type": "code",
   "execution_count": 10,
   "metadata": {},
   "outputs": [],
   "source": [
    "def load_3_dataframes(table_name_1, table_name_2, table_name_3, db_name = 'project2.sqlite'):\n",
    "    id_field      = 'meal_id'\n",
    "    q1 = 'SELECT * FROM {tn} ORDER BY {idf}'.format(tn=table_name_1, idf=id_field)\n",
    "    q2 = 'SELECT * FROM {tn} ORDER BY {idf}'.format(tn=table_name_2, idf=id_field)\n",
    "    q3 = 'SELECT * FROM {tn}'.format(tn=table_name_3)\n",
    "    conn = sqlite3.connect(db_name)\n",
    "    # Load Meal_info Dataframe\n",
    "    meal_info = pd.read_sql_query(q1, conn)\n",
    "    try: \n",
    "        meal_info = meal_info.drop('index', axis=1)\n",
    "    except: \n",
    "        pass\n",
    "    # Load Meal_ing Dataframe\n",
    "    meal_ing = pd.read_sql_query(q2, conn)\n",
    "    try:\n",
    "        meal_ing = meal_ing.drop('index', axis=1)\n",
    "    except: \n",
    "        pass\n",
    "    # Load Ingredients Dataframe\n",
    "    t3 = pd.read_sql_query(q3, conn)\n",
    "    try: \n",
    "        t3 = t3.drop('index', axis=1)\n",
    "    except:\n",
    "        pass\n",
    "    conn.close()\n",
    "    return meal_info, meal_ing, t3"
   ]
  },
  {
   "cell_type": "code",
   "execution_count": 12,
   "metadata": {},
   "outputs": [],
   "source": [
    "#Load web scraped info\n",
    "meal_info_w, meal_ing_w, bow_w = load_3_dataframes('meal_info', 'meal_ingredients', 'meal_bow', 't_homechef.sqlite')\n",
    "# Load CSV scraped info\n",
    "meal_info_c, meal_ing_c, bow_w = load_3_dataframes('meal_info', 'meal_ingredients', 'meal_bow', 't_csv_meals.sqlite')"
   ]
  },
  {
   "cell_type": "markdown",
   "metadata": {},
   "source": [
    "#### Merging meal_info tables"
   ]
  },
  {
   "cell_type": "code",
   "execution_count": 15,
   "metadata": {},
   "outputs": [
    {
     "data": {
      "text/plain": [
       "(168, 8)"
      ]
     },
     "execution_count": 15,
     "metadata": {},
     "output_type": "execute_result"
    }
   ],
   "source": [
    "try: \n",
    "    meal_info = pd.concat([meal_info_w, meal_info_c])\n",
    "    print(meal_info.shape)\n",
    "except: \n",
    "    print(meal_info_w.info())\n",
    "    print(meal_info_c.info())"
   ]
  },
  {
   "cell_type": "markdown",
   "metadata": {},
   "source": [
    "#### Merging meal_ing tables"
   ]
  },
  {
   "cell_type": "code",
   "execution_count": 18,
   "metadata": {},
   "outputs": [
    {
     "name": "stdout",
     "output_type": "stream",
     "text": [
      "(1474, 2)\n"
     ]
    }
   ],
   "source": [
    "try: \n",
    "    meal_ing = pd.concat([meal_ing_w, meal_ing_c])\n",
    "    print(meal_ing.shape)\n",
    "except: \n",
    "    print(meal_ing_w.info())\n",
    "    print(meal_ing_c.info())"
   ]
  },
  {
   "cell_type": "markdown",
   "metadata": {},
   "source": [
    "## Save it"
   ]
  },
  {
   "cell_type": "code",
   "execution_count": 20,
   "metadata": {},
   "outputs": [],
   "source": [
    "db_name = 't_project2.sqlite'\n",
    "conn = sqlite3.connect(db_name)\n",
    "meal_info.to_sql(\"meal_info\", conn, if_exists=\"replace\")\n",
    "meal_ing.to_sql(\"meal_ing\", conn, if_exists=\"replace\")\n",
    "conn.commit()\n",
    "conn.close()"
   ]
  }
 ],
 "metadata": {
  "kernelspec": {
   "display_name": "Python 3",
   "language": "python",
   "name": "python3"
  },
  "language_info": {
   "codemirror_mode": {
    "name": "ipython",
    "version": 3
   },
   "file_extension": ".py",
   "mimetype": "text/x-python",
   "name": "python",
   "nbconvert_exporter": "python",
   "pygments_lexer": "ipython3",
   "version": "3.6.4"
  }
 },
 "nbformat": 4,
 "nbformat_minor": 2
}
